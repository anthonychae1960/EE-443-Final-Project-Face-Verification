{
 "cells": [
  {
   "cell_type": "code",
   "execution_count": 89,
   "id": "f5f88fbe",
   "metadata": {},
   "outputs": [],
   "source": [
    "import os\n",
    "import cv2\n",
    "import numpy as np\n",
    "import torch\n",
    "import torch.nn as nn\n",
    "from torchvision import transforms\n",
    "from torch.utils.data import Dataset, DataLoader\n",
    "from facenet_pytorch import MTCNN, InceptionResnetV1\n",
    "from PIL import Image\n",
    "\n",
    "# Define the dataset class\n",
    "class FaceVerificationDataset(Dataset):\n",
    "    def __init__(self, root_dir):\n",
    "        self.root_dir = root_dir\n",
    "        self.image_paths = self.get_image_paths()\n",
    "\n",
    "    def get_image_paths(self):\n",
    "        image_paths = []\n",
    "        for root, dirs, files in os.walk(self.root_dir):\n",
    "            for file in files:\n",
    "                if file.endswith(\".jpg\") or file.endswith(\".png\"):\n",
    "                    image_paths.append(os.path.join(root, file))\n",
    "        return image_paths\n",
    "\n",
    "    def __len__(self):\n",
    "        return len(self.image_paths)\n",
    "\n",
    "    def __getitem__(self, idx):\n",
    "        image_path = self.image_paths[idx]\n",
    "        image = Image.open(image_path).convert('RGB')\n",
    "        return image\n",
    "\n",
    "# Set the root directory of your dataset\n",
    "root_dir = \"C:\\\\Users\\\\gojas\\\\Downloads\\\\val\"\n",
    "\n",
    "# Create an instance of the dataset\n",
    "dataset = FaceVerificationDataset(root_dir)\n",
    "\n",
    "# Create MTCNN face detector for face detection and alignment\n",
    "mtcnn = MTCNN()\n",
    "\n",
    "# Create InceptionResnetV1 model for face recognition\n",
    "model = InceptionResnetV1(pretrained='vggface2').eval()\n",
    "\n",
    "# Custom collate function to convert PIL Images to tensors\n",
    "def custom_collate_fn(batch):\n",
    "    batch_images = []\n",
    "    for image in batch:\n",
    "        image = image.resize((160, 160))  # Resize the image to a consistent size\n",
    "        image = transforms.ToTensor()(image)\n",
    "        batch_images.append(image)\n",
    "    return torch.stack(batch_images)\n",
    "\n",
    "# Create a data loader for the dataset with the custom collate function\n",
    "data_loader = DataLoader(dataset, batch_size=8, shuffle=False, collate_fn=custom_collate_fn)\n",
    "\n",
    "# Specify the device to be used (GPU if available, else CPU)\n",
    "device = torch.device(\"cuda\" if torch.cuda.is_available() else \"cpu\")\n",
    "\n",
    "# Move the model to the specified device\n",
    "model = model.to(device)\n",
    "\n",
    "# Extract embeddings for face verification\n",
    "embeddings = []\n",
    "for images in data_loader:\n",
    "    with torch.no_grad():\n",
    "        # Preprocess images and detect faces\n",
    "        aligned_images = images.to(device)\n",
    "\n",
    "        # Compute embeddings\n",
    "        batch_embeddings = model(aligned_images)\n",
    "        embeddings.extend(batch_embeddings.detach().cpu().numpy())\n",
    "    torch.cuda.empty_cache()"
   ]
  },
  {
   "cell_type": "code",
   "execution_count": 86,
   "id": "2378734d",
   "metadata": {},
   "outputs": [],
   "source": [
    "def compare_embeddings(embedding1, embedding2):\n",
    "    # Compute L2 distance between embeddings\n",
    "    distance = np.linalg.norm(embedding1 - embedding2)\n",
    "    return distance"
   ]
  },
  {
   "cell_type": "code",
   "execution_count": 87,
   "id": "ba07efe8",
   "metadata": {},
   "outputs": [
    {
     "name": "stdout",
     "output_type": "stream",
     "text": [
      "100\n"
     ]
    }
   ],
   "source": [
    "labels_file = \"C:\\\\Users\\\\gojas\\\\Downloads\\\\val.txt\"\n",
    "# Load the labels from the text file\n",
    "labels = []\n",
    "with open(labels_file, 'r') as f:\n",
    "    lines = f.readlines()[1:]  # Skip the header line\n",
    "    for line in lines:\n",
    "        _, label = line.strip().split(',')\n",
    "        label = int(label.strip())\n",
    "        labels.append(label)\n",
    "labels = np.array(labels)"
   ]
  },
  {
   "cell_type": "code",
   "execution_count": 103,
   "id": "e8104a7a",
   "metadata": {},
   "outputs": [
    {
     "name": "stdout",
     "output_type": "stream",
     "text": [
      "Accuracy: 0.96\n"
     ]
    }
   ],
   "source": [
    "embeddings_array = np.array(embeddings)\n",
    "predicted_labels = []\n",
    "\n",
    "for i in range(0, len(embeddings_array), 2):\n",
    "    condition = compare_embeddings(embeddings_array[i], embeddings_array[i+1]) < 1\n",
    "    if np.all(condition):\n",
    "        predicted_labels.append(1)  \n",
    "    else:\n",
    "        predicted_labels.append(0)  \n",
    "\n",
    "\n",
    "# Calculate accuracy\n",
    "accuracy = np.mean(predicted_labels == labels)\n",
    "print(f\"Accuracy: {accuracy}\")\n",
    "\n",
    "\n"
   ]
  },
  {
   "cell_type": "code",
   "execution_count": 105,
   "id": "afdcf213",
   "metadata": {},
   "outputs": [],
   "source": [
    "with open('output.txt', 'w') as f:\n",
    "    # Write each element of the output_data list to a new line in the file\n",
    "    for item in predicted_labels:\n",
    "        f.write(str(item) + '\\n')"
   ]
  },
  {
   "cell_type": "code",
   "execution_count": null,
   "id": "b25c220c",
   "metadata": {},
   "outputs": [],
   "source": []
  }
 ],
 "metadata": {
  "kernelspec": {
   "display_name": "Python 3 (ipykernel)",
   "language": "python",
   "name": "python3"
  },
  "language_info": {
   "codemirror_mode": {
    "name": "ipython",
    "version": 3
   },
   "file_extension": ".py",
   "mimetype": "text/x-python",
   "name": "python",
   "nbconvert_exporter": "python",
   "pygments_lexer": "ipython3",
   "version": "3.9.13"
  }
 },
 "nbformat": 4,
 "nbformat_minor": 5
}
